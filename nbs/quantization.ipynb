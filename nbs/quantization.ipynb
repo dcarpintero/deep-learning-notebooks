{
 "cells": [
  {
   "cell_type": "code",
   "execution_count": null,
   "metadata": {},
   "outputs": [],
   "source": [
    "import torch\n",
    "from transformers import BertModel\n",
    "import matplotlib.pyplot as plt\n",
    "import seaborn as sns\n",
    "\n",
    "\n",
    "model = BertModel.from_pretrained('bert-base-uncased')\n",
    "\n",
    "# Extract the weights of the first transformer layer\n",
    "weights = model.encoder.layer[0].attention.self.query.weight.detach().numpy()\n",
    "\n",
    "# Flatten the weights for visualization\n",
    "weights = weights.flatten()\n",
    "\n",
    "# Plot the distribution of weights\n",
    "plt.figure(figsize=(10, 5))\n",
    "sns.histplot(weights, bins=100, kde=True)\n",
    "plt.title('Distribution of weights in the first transformer layer')\n",
    "plt.xlabel('Weight value')\n",
    "plt.ylabel('Frequency')\n",
    "plt.show()"
   ]
  }
 ],
 "metadata": {
  "language_info": {
   "name": "python"
  }
 },
 "nbformat": 4,
 "nbformat_minor": 2
}
